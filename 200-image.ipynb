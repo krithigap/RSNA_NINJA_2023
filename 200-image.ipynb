{
 "cells": [
  {
   "cell_type": "code",
   "execution_count": null,
   "metadata": {
    "_cell_guid": "b1076dfc-b9ad-4769-8c92-a6c4dae69d19",
    "_uuid": "8f2839f25d086af736a60e9eeb907d3b93b6e0e5"
   },
   "outputs": [],
   "source": [
    "# This Python 3 environment comes with many helpful analytics libraries installed\n",
    "# It is defined by the kaggle/python Docker image: https://github.com/kaggle/docker-python\n",
    "# For example, here's several helpful packages to load\n",
    "\n",
    "import numpy as np # linear algebra\n",
    "import pandas as pd # data processing, CSV file I/O (e.g. pd.read_csv)\n",
    "\n",
    "# Input data files are available in the read-only \"../input/\" directory\n",
    "# For example, running this (by clicking run or pressing Shift+Enter) will list all files under the input directory\n",
    "\n",
    "#import os\n",
    "#for dirname, _, filenames in os.walk('/kaggle/input'):\n",
    "#    for filename in filenames:\n",
    "#        print(os.path.join(dirname, filename))\n",
    "\n",
    "# You can write up to 20GB to the current directory (/kaggle/working/) that gets preserved as output when you create a version using \"Save & Run All\" \n",
    "# You can also write temporary files to /kaggle/temp/, but they won't be saved outside of the current session"
   ]
  },
  {
   "cell_type": "markdown",
   "metadata": {},
   "source": [
    "Import packages."
   ]
  },
  {
   "cell_type": "code",
   "execution_count": null,
   "metadata": {
    "execution": {
     "iopub.execute_input": "2023-01-16T16:53:50.847699Z",
     "iopub.status.busy": "2023-01-16T16:53:50.846872Z",
     "iopub.status.idle": "2023-01-16T16:54:34.843559Z",
     "shell.execute_reply": "2023-01-16T16:54:34.842186Z",
     "shell.execute_reply.started": "2023-01-16T16:53:50.847612Z"
    }
   },
   "outputs": [],
   "source": [
    "import numpy as np # linear algebra\n",
    "import pandas as pd # data processing, CSV file I/O (e.g. pd.read_csv)\n",
    "!pip install -qU python-gdcm pydicom pylibjpeg\n",
    "!pip install python-gdcm\n",
    "!pip install -U python-gdcm\n",
    "!pip install scikit-image\n"
   ]
  },
  {
   "cell_type": "code",
   "execution_count": null,
   "metadata": {
    "execution": {
     "iopub.execute_input": "2023-01-16T16:54:47.591478Z",
     "iopub.status.busy": "2023-01-16T16:54:47.590885Z",
     "iopub.status.idle": "2023-01-16T16:54:47.597286Z",
     "shell.execute_reply": "2023-01-16T16:54:47.596329Z",
     "shell.execute_reply.started": "2023-01-16T16:54:47.591442Z"
    }
   },
   "outputs": [],
   "source": [
    "from functools import partial\n",
    "import multiprocessing as mp\n",
    "from pathlib import Path\n",
    "import numpy as np\n",
    "import pandas as pd\n",
    "import pydicom\n",
    "from skimage.transform import resize\n",
    "import tqdm\n",
    "import matplotlib.pyplot as plt \n",
    "\n",
    "import gdcm\n",
    "import pylibjpeg\n"
   ]
  },
  {
   "cell_type": "markdown",
   "metadata": {},
   "source": [
    "Done by Ramesh for variable values"
   ]
  },
  {
   "cell_type": "code",
   "execution_count": null,
   "metadata": {
    "execution": {
     "iopub.execute_input": "2023-01-16T16:54:51.632695Z",
     "iopub.status.busy": "2023-01-16T16:54:51.632343Z",
     "iopub.status.idle": "2023-01-16T16:54:51.638707Z",
     "shell.execute_reply": "2023-01-16T16:54:51.637438Z",
     "shell.execute_reply.started": "2023-01-16T16:54:51.632665Z"
    }
   },
   "outputs": [],
   "source": [
    "# RESCALE_TO = (512, 512)\n",
    "RESCALE_TO = (256, 256)\n",
    "DATA_PATH = Path(\"/kaggle/input/rsna-breast-cancer-detection\")\n",
    "TRAINING_IMAGES = DATA_PATH.joinpath(\"train_images\").iterdir()\n",
    "TRAINING_DATA = DATA_PATH.joinpath(\"train.csv\")\n",
    "TEST_IMAGES = DATA_PATH.joinpath(\"test_images\").iterdir()\n",
    "TEST_DATA = DATA_PATH.joinpath(\"test.csv\")"
   ]
  },
  {
   "cell_type": "markdown",
   "metadata": {},
   "source": [
    "reading the train.csv file."
   ]
  },
  {
   "cell_type": "code",
   "execution_count": null,
   "metadata": {
    "execution": {
     "iopub.execute_input": "2023-01-16T16:55:00.686864Z",
     "iopub.status.busy": "2023-01-16T16:55:00.686509Z",
     "iopub.status.idle": "2023-01-16T16:55:00.812033Z",
     "shell.execute_reply": "2023-01-16T16:55:00.811055Z",
     "shell.execute_reply.started": "2023-01-16T16:55:00.686835Z"
    }
   },
   "outputs": [],
   "source": [
    "training_data_df = pd.read_csv(TRAINING_DATA)\n",
    "training_data_df"
   ]
  },
  {
   "cell_type": "markdown",
   "metadata": {},
   "source": [
    "Loading 100 images in cancerous and 100 in non cancerous."
   ]
  },
  {
   "cell_type": "code",
   "execution_count": null,
   "metadata": {
    "execution": {
     "iopub.execute_input": "2023-01-16T16:55:20.181527Z",
     "iopub.status.busy": "2023-01-16T16:55:20.181164Z",
     "iopub.status.idle": "2023-01-16T16:55:20.215102Z",
     "shell.execute_reply": "2023-01-16T16:55:20.214071Z",
     "shell.execute_reply.started": "2023-01-16T16:55:20.181498Z"
    }
   },
   "outputs": [],
   "source": [
    "cancerous =training_data_df[(training_data_df['cancer']==1)].tail(100)\n",
    "non_cancerous=training_data_df[(training_data_df['cancer']==0)].head(100)\n",
    "tr_img=pd.concat([cancerous, non_cancerous],axis=0)\n",
    "tr_img"
   ]
  },
  {
   "cell_type": "markdown",
   "metadata": {},
   "source": [
    "Done by Ramesh. Danya called them directly in the block."
   ]
  },
  {
   "cell_type": "code",
   "execution_count": null,
   "metadata": {},
   "outputs": [],
   "source": [
    "def dicom_file_to_data(path):\n",
    "    dicom = pydicom.read_file(path)\n",
    "    data = dicom.pixel_array\n",
    "    resized_image = resize(data, (RESCALE_TO))\n",
    "    data = (resized_image -resized_image.min()) / (resized_image.max() - resized_image.min())\n",
    "    if dicom.PhotometricInterpretation == \"MONOCHROME1\":\n",
    "        data = 1 - data\n",
    "    return data * dicom.RescaleSlope + dicom.RescaleIntercept  #Already in hounse field unit"
   ]
  },
  {
   "cell_type": "code",
   "execution_count": null,
   "metadata": {
    "execution": {
     "iopub.execute_input": "2023-01-16T17:02:13.900280Z",
     "iopub.status.busy": "2023-01-16T17:02:13.899276Z",
     "iopub.status.idle": "2023-01-16T17:09:12.476935Z",
     "shell.execute_reply": "2023-01-16T17:09:12.475274Z",
     "shell.execute_reply.started": "2023-01-16T17:02:13.900240Z"
    }
   },
   "outputs": [],
   "source": [
    "# This block load the images for the patients in tr_img(both cancerous and non-cancerous data).\n",
    "# Created Empty list\n",
    "TR_IMAGES = []\n",
    "TR_DATA = []\n",
    "\n",
    "# Loop for all the rows of Data array - \n",
    "#tr_img.iterrows- rows in the data array\n",
    "for i,row in tqdm.tqdm(tr_img.iterrows()):\n",
    "    patient_id = row['patient_id']\n",
    "    image_id = row['image_id']\n",
    "    original_path='/kaggle/input/rsna-breast-cancer-detection/train_images'\n",
    "    img_path =  f'{original_path}/{patient_id}/{image_id}.dcm'\n",
    "    \n",
    "    \n",
    "    dicom = pydicom.read_file(img_path)\n",
    "    data = dicom.pixel_array\n",
    "    # Resize to 256X256\n",
    "    resized_image = resize(data, (RESCALE_TO))\n",
    "    # bring the number range to 0-1 for the image data\n",
    "    # TBD- Pre-Process the image to filter the body part and other operations.\n",
    "    \n",
    "    data = (resized_image -resized_image.min()) / (resized_image.max() - resized_image.min())\n",
    "    if dicom.PhotometricInterpretation == \"MONOCHROME1\":\n",
    "        data = 1 - data\n",
    "    data=data * dicom.RescaleSlope + dicom.RescaleIntercept  #Already in hounse field unit\n",
    "   \n",
    "    TR_IMAGES.append(data)\n",
    "    TR_DATA.append(tr_img['cancer'].iloc[0])"
   ]
  },
  {
   "cell_type": "code",
   "execution_count": null,
   "metadata": {
    "execution": {
     "iopub.execute_input": "2023-01-16T17:11:06.548123Z",
     "iopub.status.busy": "2023-01-16T17:11:06.547730Z",
     "iopub.status.idle": "2023-01-16T17:11:06.554424Z",
     "shell.execute_reply": "2023-01-16T17:11:06.553412Z",
     "shell.execute_reply.started": "2023-01-16T17:11:06.548091Z"
    }
   },
   "outputs": [],
   "source": [
    "type(TR_IMAGES)\n",
    "#print(len(TR_DATA))\n"
   ]
  },
  {
   "cell_type": "code",
   "execution_count": null,
   "metadata": {
    "execution": {
     "iopub.execute_input": "2023-01-16T17:11:20.072936Z",
     "iopub.status.busy": "2023-01-16T17:11:20.072579Z",
     "iopub.status.idle": "2023-01-16T17:11:20.118104Z",
     "shell.execute_reply": "2023-01-16T17:11:20.117144Z",
     "shell.execute_reply.started": "2023-01-16T17:11:20.072905Z"
    }
   },
   "outputs": [],
   "source": [
    "# Convert the list to array\n",
    "TR_IMAGES=np.array(TR_IMAGES)\n",
    "TR_DATA= np.array(TR_DATA)"
   ]
  },
  {
   "cell_type": "code",
   "execution_count": null,
   "metadata": {
    "execution": {
     "iopub.execute_input": "2023-01-16T17:11:28.198576Z",
     "iopub.status.busy": "2023-01-16T17:11:28.198222Z",
     "iopub.status.idle": "2023-01-16T17:11:28.205584Z",
     "shell.execute_reply": "2023-01-16T17:11:28.204691Z",
     "shell.execute_reply.started": "2023-01-16T17:11:28.198547Z"
    }
   },
   "outputs": [],
   "source": [
    "type(TR_IMAGES)"
   ]
  },
  {
   "cell_type": "code",
   "execution_count": null,
   "metadata": {},
   "outputs": [],
   "source": [
    "!pip install scikit-learn"
   ]
  },
  {
   "cell_type": "code",
   "execution_count": null,
   "metadata": {
    "execution": {
     "iopub.execute_input": "2023-01-16T17:11:49.444969Z",
     "iopub.status.busy": "2023-01-16T17:11:49.444372Z",
     "iopub.status.idle": "2023-01-16T17:11:49.450472Z",
     "shell.execute_reply": "2023-01-16T17:11:49.449480Z",
     "shell.execute_reply.started": "2023-01-16T17:11:49.444926Z"
    }
   },
   "outputs": [],
   "source": [
    "import tensorflow as tf\n",
    "from keras.models import Sequential\n",
    "from keras.layers import Dense, Dropout, Flatten\n",
    "from keras.layers import Conv2D, MaxPooling2D\n",
    "from keras.preprocessing import image\n",
    "from sklearn.model_selection import train_test_split\n",
    "import numpy as np\n"
   ]
  },
  {
   "cell_type": "code",
   "execution_count": null,
   "metadata": {},
   "outputs": [],
   "source": [
    "X_train = X_train.astype(\"float32\")\n",
    "X_test = X_test.astype(\"float32\")\n",
    "\n",
    "y_train = y_train.astype(\"float32\")\n",
    "y_test = y_test.astype(\"float32\")"
   ]
  },
  {
   "cell_type": "code",
   "execution_count": null,
   "metadata": {
    "execution": {
     "iopub.execute_input": "2023-01-16T17:18:45.195405Z",
     "iopub.status.busy": "2023-01-16T17:18:45.194270Z",
     "iopub.status.idle": "2023-01-16T17:18:45.372102Z",
     "shell.execute_reply": "2023-01-16T17:18:45.371053Z",
     "shell.execute_reply.started": "2023-01-16T17:18:45.195360Z"
    }
   },
   "outputs": [],
   "source": [
    "model = Sequential()\n",
    "model.add(Conv2D(8, kernel_size=(3, 3),activation='relu',input_shape=(256,256,1)))\n",
    "model.add(MaxPooling2D(pool_size=(2, 2)))\n",
    "\n",
    "model.add(Conv2D(64,(3, 3), activation='relu'))\n",
    "model.add(Dropout(0.25))\n",
    "\n",
    "model.add(Flatten())\n",
    "# original coded by danya for dense = 100\n",
    "model.add(Dense(10, activation='relu'))\n",
    "model.add(Dropout(0.5))\n",
    "model.add(Dense(1, activation='softmax'))\n",
    "\n",
    "X_train, X_test, y_train, y_test = train_test_split(TR_IMAGES, TR_DATA,shuffle=True)\n",
    "# Metrics - For classification use accuracy and for regression use RMSE value.\n",
    "model.compile(loss='categorical_crossentropy',optimizer='Adam',metrics=['accuracy'])\n",
    "\n",
    "\n",
    "#X_train = np.asarray(X_train).astype(np.float32)\n",
    "#X_test   = np.asarray(X_test).astype(np.float32)\n",
    "X_train=tf.convert_to_tensor(X_train, dtype=tf.float32)\n",
    "\n",
    "X_train = np.expand_dims(X_train, axis=-1)\n",
    "X_test=np.expand_dims(X_test, axis=-1)"
   ]
  },
  {
   "cell_type": "code",
   "execution_count": null,
   "metadata": {
    "execution": {
     "iopub.execute_input": "2023-01-16T17:20:07.153196Z",
     "iopub.status.busy": "2023-01-16T17:20:07.152620Z",
     "iopub.status.idle": "2023-01-16T17:20:07.157925Z",
     "shell.execute_reply": "2023-01-16T17:20:07.156986Z",
     "shell.execute_reply.started": "2023-01-16T17:20:07.153151Z"
    }
   },
   "outputs": [],
   "source": [
    "# to pass validation\n",
    "X_val = X_train[-20:]\n",
    "y_val = y_train[-20:]"
   ]
  },
  {
   "cell_type": "code",
   "execution_count": null,
   "metadata": {
    "execution": {
     "iopub.execute_input": "2023-01-16T17:22:41.679479Z",
     "iopub.status.busy": "2023-01-16T17:22:41.678792Z",
     "iopub.status.idle": "2023-01-16T17:22:41.684183Z",
     "shell.execute_reply": "2023-01-16T17:22:41.683073Z",
     "shell.execute_reply.started": "2023-01-16T17:22:41.679442Z"
    }
   },
   "outputs": [],
   "source": [
    "X_train = X_train[:-20]\n",
    "y_train = y_train[:-20]"
   ]
  },
  {
   "cell_type": "code",
   "execution_count": null,
   "metadata": {
    "execution": {
     "iopub.execute_input": "2023-01-16T17:22:44.162080Z",
     "iopub.status.busy": "2023-01-16T17:22:44.161143Z",
     "iopub.status.idle": "2023-01-16T17:22:44.170617Z",
     "shell.execute_reply": "2023-01-16T17:22:44.169614Z",
     "shell.execute_reply.started": "2023-01-16T17:22:44.162031Z"
    }
   },
   "outputs": [],
   "source": [
    "print(len(X_train))\n",
    "print(len(y_train))\n",
    "print(len(X_test))\n",
    "print(len(y_test))\n",
    "print(len(X_val))\n",
    "print(len(y_val))\n",
    "type(y_train)"
   ]
  },
  {
   "cell_type": "code",
   "execution_count": null,
   "metadata": {
    "execution": {
     "iopub.execute_input": "2023-01-16T17:23:07.215875Z",
     "iopub.status.busy": "2023-01-16T17:23:07.215526Z",
     "iopub.status.idle": "2023-01-16T17:23:07.222405Z",
     "shell.execute_reply": "2023-01-16T17:23:07.221368Z",
     "shell.execute_reply.started": "2023-01-16T17:23:07.215846Z"
    }
   },
   "outputs": [],
   "source": [
    "model.summary()"
   ]
  },
  {
   "cell_type": "code",
   "execution_count": null,
   "metadata": {
    "execution": {
     "iopub.execute_input": "2023-01-16T17:24:39.327565Z",
     "iopub.status.busy": "2023-01-16T17:24:39.326900Z",
     "iopub.status.idle": "2023-01-16T17:24:50.114116Z",
     "shell.execute_reply": "2023-01-16T17:24:50.113221Z",
     "shell.execute_reply.started": "2023-01-16T17:24:39.327530Z"
    }
   },
   "outputs": [],
   "source": [
    "with tf.device('/GPU:0'):\n",
    "    model.fit(X_train,y_train, epochs=20, verbose=2, validation_data=(X_val,y_val))\n",
    "              \n",
    "#model.fit(X_train,y_train, epochs=20, verbose=2)# validation_data=(X_test, y_test))"
   ]
  },
  {
   "cell_type": "code",
   "execution_count": null,
   "metadata": {
    "execution": {
     "iopub.execute_input": "2023-01-16T17:25:18.477903Z",
     "iopub.status.busy": "2023-01-16T17:25:18.477547Z",
     "iopub.status.idle": "2023-01-16T17:25:18.610412Z",
     "shell.execute_reply": "2023-01-16T17:25:18.609510Z",
     "shell.execute_reply.started": "2023-01-16T17:25:18.477872Z"
    }
   },
   "outputs": [],
   "source": [
    "results = model.evaluate(X_test, y_test)\n",
    "results"
   ]
  },
  {
   "cell_type": "code",
   "execution_count": null,
   "metadata": {
    "execution": {
     "iopub.execute_input": "2023-01-16T17:25:36.676425Z",
     "iopub.status.busy": "2023-01-16T17:25:36.676055Z",
     "iopub.status.idle": "2023-01-16T17:25:36.858289Z",
     "shell.execute_reply": "2023-01-16T17:25:36.857415Z",
     "shell.execute_reply.started": "2023-01-16T17:25:36.676396Z"
    }
   },
   "outputs": [],
   "source": [
    "y_pred = model.predict(X_test)\n",
    "y_pred"
   ]
  },
  {
   "cell_type": "code",
   "execution_count": null,
   "metadata": {
    "execution": {
     "iopub.execute_input": "2023-01-16T17:25:54.548824Z",
     "iopub.status.busy": "2023-01-16T17:25:54.548474Z",
     "iopub.status.idle": "2023-01-16T17:25:54.555514Z",
     "shell.execute_reply": "2023-01-16T17:25:54.554492Z",
     "shell.execute_reply.started": "2023-01-16T17:25:54.548793Z"
    }
   },
   "outputs": [],
   "source": [
    "len(y_pred)\n"
   ]
  },
  {
   "cell_type": "code",
   "execution_count": null,
   "metadata": {
    "execution": {
     "iopub.execute_input": "2023-01-16T17:25:57.299673Z",
     "iopub.status.busy": "2023-01-16T17:25:57.299298Z",
     "iopub.status.idle": "2023-01-16T17:25:57.306704Z",
     "shell.execute_reply": "2023-01-16T17:25:57.305583Z",
     "shell.execute_reply.started": "2023-01-16T17:25:57.299641Z"
    }
   },
   "outputs": [],
   "source": [
    "len(y_test)"
   ]
  },
  {
   "cell_type": "code",
   "execution_count": null,
   "metadata": {
    "execution": {
     "iopub.execute_input": "2023-01-16T17:26:24.330410Z",
     "iopub.status.busy": "2023-01-16T17:26:24.329592Z",
     "iopub.status.idle": "2023-01-16T17:26:24.335173Z",
     "shell.execute_reply": "2023-01-16T17:26:24.334147Z",
     "shell.execute_reply.started": "2023-01-16T17:26:24.330376Z"
    }
   },
   "outputs": [],
   "source": [
    "import sklearn.metrics as metrics"
   ]
  },
  {
   "cell_type": "code",
   "execution_count": null,
   "metadata": {
    "execution": {
     "iopub.execute_input": "2023-01-16T17:26:27.896763Z",
     "iopub.status.busy": "2023-01-16T17:26:27.896399Z",
     "iopub.status.idle": "2023-01-16T17:26:27.904766Z",
     "shell.execute_reply": "2023-01-16T17:26:27.903686Z",
     "shell.execute_reply.started": "2023-01-16T17:26:27.896731Z"
    }
   },
   "outputs": [],
   "source": [
    "confusion_matrix = metrics.confusion_matrix(y_test, y_pred) "
   ]
  },
  {
   "cell_type": "code",
   "execution_count": null,
   "metadata": {
    "execution": {
     "iopub.execute_input": "2023-01-16T17:26:32.537407Z",
     "iopub.status.busy": "2023-01-16T17:26:32.537028Z",
     "iopub.status.idle": "2023-01-16T17:26:32.814086Z",
     "shell.execute_reply": "2023-01-16T17:26:32.812872Z",
     "shell.execute_reply.started": "2023-01-16T17:26:32.537375Z"
    }
   },
   "outputs": [],
   "source": [
    "cm_display = metrics.ConfusionMatrixDisplay(confusion_matrix = confusion_matrix, display_labels = [False, True])\n",
    "\n",
    "cm_display.plot()\n",
    "plt.show()"
   ]
  },
  {
   "cell_type": "code",
   "execution_count": null,
   "metadata": {},
   "outputs": [],
   "source": []
  }
 ],
 "metadata": {
  "kernelspec": {
   "display_name": "Python 3 (ipykernel)",
   "language": "python",
   "name": "python3"
  },
  "language_info": {
   "codemirror_mode": {
    "name": "ipython",
    "version": 3
   },
   "file_extension": ".py",
   "mimetype": "text/x-python",
   "name": "python",
   "nbconvert_exporter": "python",
   "pygments_lexer": "ipython3",
   "version": "3.9.13"
  }
 },
 "nbformat": 4,
 "nbformat_minor": 4
}
